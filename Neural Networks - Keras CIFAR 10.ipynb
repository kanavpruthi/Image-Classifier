{
 "cells": [
  {
   "cell_type": "markdown",
   "metadata": {},
   "source": [
    "\n",
    "\n",
    "## Imports"
   ]
  },
  {
   "cell_type": "code",
   "execution_count": 1,
   "metadata": {},
   "outputs": [
    {
     "name": "stderr",
     "output_type": "stream",
     "text": [
      "C:\\Users\\Kanav\\anaconda3\\lib\\site-packages\\tensorflow\\python\\framework\\dtypes.py:516: FutureWarning: Passing (type, 1) or '1type' as a synonym of type is deprecated; in a future version of numpy, it will be understood as (type, (1,)) / '(1,)type'.\n",
      "  _np_qint8 = np.dtype([(\"qint8\", np.int8, 1)])\n",
      "C:\\Users\\Kanav\\anaconda3\\lib\\site-packages\\tensorflow\\python\\framework\\dtypes.py:517: FutureWarning: Passing (type, 1) or '1type' as a synonym of type is deprecated; in a future version of numpy, it will be understood as (type, (1,)) / '(1,)type'.\n",
      "  _np_quint8 = np.dtype([(\"quint8\", np.uint8, 1)])\n",
      "C:\\Users\\Kanav\\anaconda3\\lib\\site-packages\\tensorflow\\python\\framework\\dtypes.py:518: FutureWarning: Passing (type, 1) or '1type' as a synonym of type is deprecated; in a future version of numpy, it will be understood as (type, (1,)) / '(1,)type'.\n",
      "  _np_qint16 = np.dtype([(\"qint16\", np.int16, 1)])\n",
      "C:\\Users\\Kanav\\anaconda3\\lib\\site-packages\\tensorflow\\python\\framework\\dtypes.py:519: FutureWarning: Passing (type, 1) or '1type' as a synonym of type is deprecated; in a future version of numpy, it will be understood as (type, (1,)) / '(1,)type'.\n",
      "  _np_quint16 = np.dtype([(\"quint16\", np.uint16, 1)])\n",
      "C:\\Users\\Kanav\\anaconda3\\lib\\site-packages\\tensorflow\\python\\framework\\dtypes.py:520: FutureWarning: Passing (type, 1) or '1type' as a synonym of type is deprecated; in a future version of numpy, it will be understood as (type, (1,)) / '(1,)type'.\n",
      "  _np_qint32 = np.dtype([(\"qint32\", np.int32, 1)])\n",
      "C:\\Users\\Kanav\\anaconda3\\lib\\site-packages\\tensorflow\\python\\framework\\dtypes.py:525: FutureWarning: Passing (type, 1) or '1type' as a synonym of type is deprecated; in a future version of numpy, it will be understood as (type, (1,)) / '(1,)type'.\n",
      "  np_resource = np.dtype([(\"resource\", np.ubyte, 1)])\n",
      "C:\\Users\\Kanav\\anaconda3\\lib\\site-packages\\tensorboard\\compat\\tensorflow_stub\\dtypes.py:541: FutureWarning: Passing (type, 1) or '1type' as a synonym of type is deprecated; in a future version of numpy, it will be understood as (type, (1,)) / '(1,)type'.\n",
      "  _np_qint8 = np.dtype([(\"qint8\", np.int8, 1)])\n",
      "C:\\Users\\Kanav\\anaconda3\\lib\\site-packages\\tensorboard\\compat\\tensorflow_stub\\dtypes.py:542: FutureWarning: Passing (type, 1) or '1type' as a synonym of type is deprecated; in a future version of numpy, it will be understood as (type, (1,)) / '(1,)type'.\n",
      "  _np_quint8 = np.dtype([(\"quint8\", np.uint8, 1)])\n",
      "C:\\Users\\Kanav\\anaconda3\\lib\\site-packages\\tensorboard\\compat\\tensorflow_stub\\dtypes.py:543: FutureWarning: Passing (type, 1) or '1type' as a synonym of type is deprecated; in a future version of numpy, it will be understood as (type, (1,)) / '(1,)type'.\n",
      "  _np_qint16 = np.dtype([(\"qint16\", np.int16, 1)])\n",
      "C:\\Users\\Kanav\\anaconda3\\lib\\site-packages\\tensorboard\\compat\\tensorflow_stub\\dtypes.py:544: FutureWarning: Passing (type, 1) or '1type' as a synonym of type is deprecated; in a future version of numpy, it will be understood as (type, (1,)) / '(1,)type'.\n",
      "  _np_quint16 = np.dtype([(\"quint16\", np.uint16, 1)])\n",
      "C:\\Users\\Kanav\\anaconda3\\lib\\site-packages\\tensorboard\\compat\\tensorflow_stub\\dtypes.py:545: FutureWarning: Passing (type, 1) or '1type' as a synonym of type is deprecated; in a future version of numpy, it will be understood as (type, (1,)) / '(1,)type'.\n",
      "  _np_qint32 = np.dtype([(\"qint32\", np.int32, 1)])\n",
      "C:\\Users\\Kanav\\anaconda3\\lib\\site-packages\\tensorboard\\compat\\tensorflow_stub\\dtypes.py:550: FutureWarning: Passing (type, 1) or '1type' as a synonym of type is deprecated; in a future version of numpy, it will be understood as (type, (1,)) / '(1,)type'.\n",
      "  np_resource = np.dtype([(\"resource\", np.ubyte, 1)])\n"
     ]
    }
   ],
   "source": [
    "from numpy.random import seed \n",
    "seed(888)\n",
    "\n",
    "from tensorflow import set_random_seed\n",
    "set_random_seed(404)"
   ]
  },
  {
   "cell_type": "code",
   "execution_count": 63,
   "metadata": {},
   "outputs": [
    {
     "name": "stdout",
     "output_type": "stream",
     "text": [
      "The tensorboard extension is already loaded. To reload it, use:\n",
      "  %reload_ext tensorboard\n"
     ]
    }
   ],
   "source": [
    "%load_ext tensorboard\n",
    "\n",
    "import numpy as np\n",
    "import os\n",
    "import tensorflow as tf\n",
    "import keras\n",
    "\n",
    "from keras.datasets import cifar10\n",
    "from IPython.display import display\n",
    "from keras.preprocessing.image import array_to_img\n",
    "import matplotlib.pyplot as plt\n",
    "from keras.models import Sequential\n",
    "from keras.layers import Dense, Activation, Dropout\n",
    "\n",
    "from keras.callbacks import TensorBoard\n",
    "from time import strftime\n",
    "\n",
    "from sklearn.metrics import confusion_matrix\n",
    "import itertools\n",
    "%matplotlib inline"
   ]
  },
  {
   "cell_type": "markdown",
   "metadata": {},
   "source": [
    "## Constants"
   ]
  },
  {
   "cell_type": "code",
   "execution_count": 55,
   "metadata": {},
   "outputs": [],
   "source": [
    "LOG_DIR='tensorboard_cifar_logs/'\n",
    "\n",
    "\n",
    "LABEL_NAMES=['Plane', 'Car', 'Bird', 'Cat', 'Deer', 'Dog', 'Frog', 'Horse', 'Ship', 'Truck']\n",
    "IMAGE_WIDTH=32\n",
    "IMAGE_HEIGHT=32\n",
    "IMAGE_PIXELS=IMAGE_HEIGHT*IMAGE_WIDTH\n",
    "COLOR_CHANNELS=3\n",
    "TOTAL_INPUTS= IMAGE_PIXELS*COLOR_CHANNELS\n",
    "VALIDATION_SIZE=10000\n",
    "SMALL_TRAIN_SIZE=1000\n",
    "NR_CLASSES=10"
   ]
  },
  {
   "cell_type": "markdown",
   "metadata": {},
   "source": [
    "## Fetch Data"
   ]
  },
  {
   "cell_type": "code",
   "execution_count": 4,
   "metadata": {},
   "outputs": [],
   "source": [
    "## CIFAR 10 is an iamge dataset used for image recognition models\n",
    "(x_train_all, y_train_all), (x_test, y_test) = cifar10.load_data()"
   ]
  },
  {
   "cell_type": "markdown",
   "metadata": {},
   "source": [
    "## Exploring the Data"
   ]
  },
  {
   "cell_type": "code",
   "execution_count": 5,
   "metadata": {},
   "outputs": [
    {
     "data": {
      "image/png": "[encoded data removed]",
      "text/plain": [
       "<PIL.Image.Image image mode=RGB size=32x32 at 0x23E798DC648>"
      ]
     },
     "metadata": {},
     "output_type": "display_data"
    },
    {
     "data": {
      "text/plain": [
       "7"
      ]
     },
     "execution_count": 5,
     "metadata": {},
     "output_type": "execute_result"
    }
   ],
   "source": [
    "pic = array_to_img(x_train_all[7])\n",
    "display(pic)\n",
    "\n",
    "y_train_all[7][0]"
   ]
  },
  {
   "cell_type": "code",
   "execution_count": 6,
   "metadata": {},
   "outputs": [
    {
     "data": {
      "text/plain": [
       "'Horse'"
      ]
     },
     "execution_count": 6,
     "metadata": {},
     "output_type": "execute_result"
    }
   ],
   "source": [
    "LABEL_NAMES[y_train_all[7][0]]"
   ]
  },
  {
   "cell_type": "code",
   "execution_count": 7,
   "metadata": {
    "scrolled": true
   },
   "outputs": [
    {
     "data": {
      "image/png": "[encoded data removed]",
      "text/plain": [
       "<Figure size 1080x360 with 10 Axes>"
      ]
     },
     "metadata": {},
     "output_type": "display_data"
    }
   ],
   "source": [
    "plt.figure(figsize=(15,5))\n",
    "for i in range(10):\n",
    "    plt.subplot(1, 10, i+1)\n",
    "    plt.xticks([])\n",
    "    plt.yticks([])\n",
    "    plt.imshow(x_train_all[i])\n",
    "    plt.xlabel(LABEL_NAMES[y_train_all[i][0]], fontsize=14)\n",
    "plt.show()"
   ]
  },
  {
   "cell_type": "code",
   "execution_count": 8,
   "metadata": {},
   "outputs": [
    {
     "data": {
      "text/plain": [
       "(50000, 32, 32, 3)"
      ]
     },
     "execution_count": 8,
     "metadata": {},
     "output_type": "execute_result"
    }
   ],
   "source": [
    "x_train_all.shape"
   ]
  },
  {
   "cell_type": "code",
   "execution_count": 9,
   "metadata": {},
   "outputs": [
    {
     "name": "stdout",
     "output_type": "stream",
     "text": [
      "images = 50000,\t | width = 32\t | height = 32\t | channels = 3\n"
     ]
    }
   ],
   "source": [
    "num_images, x, y, c = x_train_all.shape\n",
    "print(f'images = {num_images},\\t | width = {x}\\t | height = {y}\\t | channels = {c}')"
   ]
  },
  {
   "cell_type": "code",
   "execution_count": 10,
   "metadata": {},
   "outputs": [
    {
     "data": {
      "text/plain": [
       "(10000, 32, 32, 3)"
      ]
     },
     "execution_count": 10,
     "metadata": {},
     "output_type": "execute_result"
    }
   ],
   "source": [
    "x_test.shape"
   ]
  },
  {
   "cell_type": "markdown",
   "metadata": {},
   "source": [
    "## Preprocess Data"
   ]
  },
  {
   "cell_type": "code",
   "execution_count": 11,
   "metadata": {},
   "outputs": [],
   "source": [
    "x_train_all=x_train_all/255.0\n",
    "x_test=x_test/255.0"
   ]
  },
  {
   "cell_type": "code",
   "execution_count": 12,
   "metadata": {},
   "outputs": [
    {
     "data": {
      "text/plain": [
       "numpy.float64"
      ]
     },
     "execution_count": 12,
     "metadata": {},
     "output_type": "execute_result"
    }
   ],
   "source": [
    "type(x_train_all[0][0][0][0])"
   ]
  },
  {
   "cell_type": "code",
   "execution_count": 13,
   "metadata": {},
   "outputs": [],
   "source": [
    "x_train_all=x_train_all.reshape(x_train_all.shape[0], TOTAL_INPUTS)"
   ]
  },
  {
   "cell_type": "code",
   "execution_count": 14,
   "metadata": {},
   "outputs": [
    {
     "name": "stdout",
     "output_type": "stream",
     "text": [
      "Shape of the x_test is (10000, 3072)\n"
     ]
    }
   ],
   "source": [
    "x_test=x_test.reshape(x_test.shape[0], TOTAL_INPUTS)\n",
    "print(f'Shape of the x_test is {x_test.shape}')"
   ]
  },
  {
   "cell_type": "code",
   "execution_count": 15,
   "metadata": {},
   "outputs": [],
   "source": [
    "## we shall make a validation dataset from the training dataset, to make the model better, "
   ]
  },
  {
   "cell_type": "markdown",
   "metadata": {},
   "source": [
    "## Create validation dataset"
   ]
  },
  {
   "cell_type": "code",
   "execution_count": 16,
   "metadata": {},
   "outputs": [
    {
     "data": {
      "text/plain": [
       "(10000, 1)"
      ]
     },
     "execution_count": 16,
     "metadata": {},
     "output_type": "execute_result"
    }
   ],
   "source": [
    "x_val = x_train_all[:VALIDATION_SIZE]\n",
    "y_val = y_train_all[:VALIDATION_SIZE]\n",
    "y_val.shape"
   ]
  },
  {
   "cell_type": "code",
   "execution_count": 17,
   "metadata": {},
   "outputs": [
    {
     "data": {
      "text/plain": [
       "(40000, 1)"
      ]
     },
     "execution_count": 17,
     "metadata": {},
     "output_type": "execute_result"
    }
   ],
   "source": [
    "x_train = x_train_all[VALIDATION_SIZE:]\n",
    "y_train = y_train_all[VALIDATION_SIZE:]\n",
    "y_train.shape"
   ]
  },
  {
   "cell_type": "markdown",
   "metadata": {},
   "source": [
    "### Creating smaller dataset (for illustration)"
   ]
  },
  {
   "cell_type": "code",
   "execution_count": 18,
   "metadata": {},
   "outputs": [],
   "source": [
    "x_train_xs = x_train[:SMALL_TRAIN_SIZE]\n",
    "y_train_xs = y_train[:SMALL_TRAIN_SIZE]"
   ]
  },
  {
   "cell_type": "markdown",
   "metadata": {},
   "source": [
    "## Defining Network Using Keras"
   ]
  },
  {
   "cell_type": "code",
   "execution_count": 27,
   "metadata": {},
   "outputs": [],
   "source": [
    "model_1 = Sequential([\n",
    "    Dense(units=128, input_dim=TOTAL_INPUTS, activation='relu', name = 'm1_hidden1'),\n",
    "    Dense(units=64, activation='relu', name = 'm1_hidden2'),\n",
    "    Dense(units=16, activation='relu', name = 'm1_hidden3'),\n",
    "    Dense(units=10, activation='softmax', name = 'm1_output')\n",
    "])\n",
    "\n",
    "model_1.compile(optimizer='adam', loss= 'sparse_categorical_crossentropy', metrics=['accuracy'])"
   ]
  },
  {
   "cell_type": "code",
   "execution_count": 28,
   "metadata": {},
   "outputs": [],
   "source": [
    "model_2 = Sequential()\n",
    "model_2.add(Dropout(rate=0.2, seed=42, input_shape=(TOTAL_INPUTS,)))\n",
    "model_2.add(Dense(128, activation='relu', name='m2_hidden1'))\n",
    "model_2.add(Dense(64, activation='relu', name='m2_hidden2'))\n",
    "model_2.add(Dense(16, activation='relu', name='m2_hidden3'))\n",
    "model_2.add(Dense(10, activation='softmax', name='m2_output'))\n",
    "\n",
    "model_2.compile(optimizer='adam', loss='sparse_categorical_crossentropy', metrics=['accuracy'])"
   ]
  },
  {
   "cell_type": "code",
   "execution_count": 29,
   "metadata": {},
   "outputs": [],
   "source": [
    "model_3 = Sequential()\n",
    "model_3.add(Dropout(rate=0.2, seed=42, input_shape=(TOTAL_INPUTS,)))\n",
    "model_3.add(Dense(128, activation='relu', name='m2_hidden1'))\n",
    "model_3.add(Dropout(rate=0.25, seed=42))\n",
    "model_3.add(Dense(64, activation='relu', name='m2_hidden2'))\n",
    "model_3.add(Dense(16, activation='relu', name='m2_hidden3'))\n",
    "model_3.add(Dense(10, activation='softmax', name='m2_output'))\n",
    "\n",
    "model_3.compile(optimizer='adam', loss='sparse_categorical_crossentropy', metrics=['accuracy'])"
   ]
  },
  {
   "cell_type": "code",
   "execution_count": 21,
   "metadata": {},
   "outputs": [
    {
     "name": "stdout",
     "output_type": "stream",
     "text": [
      "Model: \"sequential_1\"\n",
      "_________________________________________________________________\n",
      "Layer (type)                 Output Shape              Param #   \n",
      "=================================================================\n",
      "m1_hidden1 (Dense)           (None, 128)               393344    \n",
      "_________________________________________________________________\n",
      "m1_hidden2 (Dense)           (None, 64)                8256      \n",
      "_________________________________________________________________\n",
      "m1_hidden3 (Dense)           (None, 16)                1040      \n",
      "_________________________________________________________________\n",
      "m1_output (Dense)            (None, 10)                170       \n",
      "=================================================================\n",
      "Total params: 402,810\n",
      "Trainable params: 402,810\n",
      "Non-trainable params: 0\n",
      "_________________________________________________________________\n"
     ]
    }
   ],
   "source": [
    "model_1.summary()"
   ]
  },
  {
   "cell_type": "code",
   "execution_count": 22,
   "metadata": {},
   "outputs": [
    {
     "data": {
      "text/plain": [
       "402810"
      ]
     },
     "execution_count": 22,
     "metadata": {},
     "output_type": "execute_result"
    }
   ],
   "source": [
    "## How did this number come\n",
    "(3072*128 + 128) + (128*64+64) + (64*16+16) + (16*10 + 10)"
   ]
  },
  {
   "cell_type": "markdown",
   "metadata": {},
   "source": [
    "## Tesnsorboard (Visualising Learning)"
   ]
  },
  {
   "cell_type": "code",
   "execution_count": null,
   "metadata": {},
   "outputs": [],
   "source": []
  },
  {
   "cell_type": "code",
   "execution_count": 23,
   "metadata": {},
   "outputs": [],
   "source": [
    "def get_tensor_board(model_name):\n",
    "    folder_name = f'{model_name} at {strftime(\"%H %M\")}'\n",
    "    dir_paths=os.path.join(LOG_DIR, folder_name)\n",
    "    try:\n",
    "        os.makedirs(dir_paths)\n",
    "    except FileExistsError as e:\n",
    "        print(str(e))\n",
    "    else:\n",
    "        print('Successfully created directory')\n",
    "\n",
    "    return TensorBoard(log_dir=dir_paths)"
   ]
  },
  {
   "cell_type": "markdown",
   "metadata": {},
   "source": [
    "## Fitting the model\n",
    "\n",
    "#### Using the small dataset for now, in batch sizes of 1000, running each batch 20 times(epochs)"
   ]
  },
  {
   "cell_type": "code",
   "execution_count": 24,
   "metadata": {
    "scrolled": true
   },
   "outputs": [
    {
     "name": "stdout",
     "output_type": "stream",
     "text": [
      "Successfully created directory\n",
      "WARNING:tensorflow:From C:\\Users\\Kanav\\anaconda3\\lib\\site-packages\\keras\\backend\\tensorflow_backend.py:422: The name tf.global_variables is deprecated. Please use tf.compat.v1.global_variables instead.\n",
      "\n",
      "Train on 1000 samples, validate on 10000 samples\n",
      "WARNING:tensorflow:From C:\\Users\\Kanav\\anaconda3\\lib\\site-packages\\keras\\callbacks\\tensorboard_v1.py:200: The name tf.summary.merge_all is deprecated. Please use tf.compat.v1.summary.merge_all instead.\n",
      "\n",
      "WARNING:tensorflow:From C:\\Users\\Kanav\\anaconda3\\lib\\site-packages\\keras\\callbacks\\tensorboard_v1.py:203: The name tf.summary.FileWriter is deprecated. Please use tf.compat.v1.summary.FileWriter instead.\n",
      "\n",
      "Epoch 1/150\n",
      "1000/1000 [==============================] - 1s 597us/step - loss: 2.3105 - accuracy: 0.1210 - val_loss: 2.6823 - val_accuracy: 0.1116\n",
      "WARNING:tensorflow:From C:\\Users\\Kanav\\anaconda3\\lib\\site-packages\\keras\\callbacks\\tensorboard_v1.py:343: The name tf.Summary is deprecated. Please use tf.compat.v1.Summary instead.\n",
      "\n",
      "Epoch 2/150\n",
      "1000/1000 [==============================] - 0s 368us/step - loss: 2.6636 - accuracy: 0.1100 - val_loss: 2.5894 - val_accuracy: 0.1136\n",
      "Epoch 3/150\n",
      "1000/1000 [==============================] - 0s 425us/step - loss: 2.5457 - accuracy: 0.1250 - val_loss: 2.3817 - val_accuracy: 0.1028\n",
      "Epoch 4/150\n",
      "1000/1000 [==============================] - 0s 346us/step - loss: 2.3486 - accuracy: 0.1030 - val_loss: 2.3655 - val_accuracy: 0.1004\n",
      "Epoch 5/150\n",
      "1000/1000 [==============================] - 0s 387us/step - loss: 2.3295 - accuracy: 0.1010 - val_loss: 2.3257 - val_accuracy: 0.1485\n",
      "Epoch 6/150\n",
      "1000/1000 [==============================] - 0s 374us/step - loss: 2.3006 - accuracy: 0.1410 - val_loss: 2.3243 - val_accuracy: 0.0959\n",
      "Epoch 7/150\n",
      "1000/1000 [==============================] - 0s 453us/step - loss: 2.3041 - accuracy: 0.1070 - val_loss: 2.3129 - val_accuracy: 0.1271\n",
      "Epoch 8/150\n",
      "1000/1000 [==============================] - 0s 369us/step - loss: 2.2827 - accuracy: 0.1470 - val_loss: 2.3030 - val_accuracy: 0.1523\n",
      "Epoch 9/150\n",
      "1000/1000 [==============================] - 0s 362us/step - loss: 2.2676 - accuracy: 0.1860 - val_loss: 2.2995 - val_accuracy: 0.1602\n",
      "Epoch 10/150\n",
      "1000/1000 [==============================] - 0s 359us/step - loss: 2.2648 - accuracy: 0.1820 - val_loss: 2.2967 - val_accuracy: 0.1647\n",
      "Epoch 11/150\n",
      "1000/1000 [==============================] - 0s 361us/step - loss: 2.2632 - accuracy: 0.1910 - val_loss: 2.2888 - val_accuracy: 0.1566\n",
      "Epoch 12/150\n",
      "1000/1000 [==============================] - 0s 356us/step - loss: 2.2547 - accuracy: 0.1800 - val_loss: 2.2827 - val_accuracy: 0.1532\n",
      "Epoch 13/150\n",
      "1000/1000 [==============================] - 0s 368us/step - loss: 2.2494 - accuracy: 0.1750 - val_loss: 2.2746 - val_accuracy: 0.1514\n",
      "Epoch 14/150\n",
      "1000/1000 [==============================] - 0s 347us/step - loss: 2.2415 - accuracy: 0.1730 - val_loss: 2.2723 - val_accuracy: 0.1676\n",
      "Epoch 15/150\n",
      "1000/1000 [==============================] - 0s 351us/step - loss: 2.2364 - accuracy: 0.1940 - val_loss: 2.2734 - val_accuracy: 0.1798\n",
      "Epoch 16/150\n",
      "1000/1000 [==============================] - 0s 380us/step - loss: 2.2332 - accuracy: 0.2040 - val_loss: 2.2695 - val_accuracy: 0.1793\n",
      "Epoch 17/150\n",
      "1000/1000 [==============================] - 0s 401us/step - loss: 2.2260 - accuracy: 0.2040 - val_loss: 2.2635 - val_accuracy: 0.1708\n",
      "Epoch 18/150\n",
      "1000/1000 [==============================] - 0s 351us/step - loss: 2.2192 - accuracy: 0.1950 - val_loss: 2.2589 - val_accuracy: 0.1630\n",
      "Epoch 19/150\n",
      "1000/1000 [==============================] - 0s 357us/step - loss: 2.2148 - accuracy: 0.1850 - val_loss: 2.2560 - val_accuracy: 0.1622\n",
      "Epoch 20/150\n",
      "1000/1000 [==============================] - 0s 359us/step - loss: 2.2094 - accuracy: 0.1850 - val_loss: 2.2564 - val_accuracy: 0.1669\n",
      "Epoch 21/150\n",
      "1000/1000 [==============================] - 0s 355us/step - loss: 2.2039 - accuracy: 0.1900 - val_loss: 2.2578 - val_accuracy: 0.1734\n",
      "Epoch 22/150\n",
      "1000/1000 [==============================] - 0s 352us/step - loss: 2.2001 - accuracy: 0.1940 - val_loss: 2.2550 - val_accuracy: 0.1726\n",
      "Epoch 23/150\n",
      "1000/1000 [==============================] - 0s 353us/step - loss: 2.1948 - accuracy: 0.1960 - val_loss: 2.2501 - val_accuracy: 0.1744\n",
      "Epoch 24/150\n",
      "1000/1000 [==============================] - 0s 353us/step - loss: 2.1899 - accuracy: 0.1980 - val_loss: 2.2471 - val_accuracy: 0.1758\n",
      "Epoch 25/150\n",
      "1000/1000 [==============================] - 0s 386us/step - loss: 2.1861 - accuracy: 0.1990 - val_loss: 2.2451 - val_accuracy: 0.1781\n",
      "Epoch 26/150\n",
      "1000/1000 [==============================] - 0s 387us/step - loss: 2.1811 - accuracy: 0.2030 - val_loss: 2.2432 - val_accuracy: 0.1788\n",
      "Epoch 27/150\n",
      "1000/1000 [==============================] - 0s 408us/step - loss: 2.1757 - accuracy: 0.2130 - val_loss: 2.2398 - val_accuracy: 0.1777\n",
      "Epoch 28/150\n",
      "1000/1000 [==============================] - 0s 392us/step - loss: 2.1704 - accuracy: 0.2160 - val_loss: 2.2352 - val_accuracy: 0.1759\n",
      "Epoch 29/150\n",
      "1000/1000 [==============================] - 0s 358us/step - loss: 2.1654 - accuracy: 0.2120 - val_loss: 2.2322 - val_accuracy: 0.1754\n",
      "Epoch 30/150\n",
      "1000/1000 [==============================] - 0s 356us/step - loss: 2.1607 - accuracy: 0.2160 - val_loss: 2.2301 - val_accuracy: 0.1759\n",
      "Epoch 31/150\n",
      "1000/1000 [==============================] - 0s 352us/step - loss: 2.1563 - accuracy: 0.2120 - val_loss: 2.2274 - val_accuracy: 0.1763\n",
      "Epoch 32/150\n",
      "1000/1000 [==============================] - 0s 369us/step - loss: 2.1515 - accuracy: 0.2150 - val_loss: 2.2256 - val_accuracy: 0.1778\n",
      "Epoch 33/150\n",
      "1000/1000 [==============================] - 0s 354us/step - loss: 2.1471 - accuracy: 0.2200 - val_loss: 2.2245 - val_accuracy: 0.1810\n",
      "Epoch 34/150\n",
      "1000/1000 [==============================] - 0s 369us/step - loss: 2.1419 - accuracy: 0.2190 - val_loss: 2.2229 - val_accuracy: 0.1825\n",
      "Epoch 35/150\n",
      "1000/1000 [==============================] - 0s 395us/step - loss: 2.1377 - accuracy: 0.2220 - val_loss: 2.2191 - val_accuracy: 0.1830\n",
      "Epoch 36/150\n",
      "1000/1000 [==============================] - 0s 400us/step - loss: 2.1329 - accuracy: 0.2230 - val_loss: 2.2171 - val_accuracy: 0.1846\n",
      "Epoch 37/150\n",
      "1000/1000 [==============================] - 0s 397us/step - loss: 2.1286 - accuracy: 0.2230 - val_loss: 2.2163 - val_accuracy: 0.1863\n",
      "Epoch 38/150\n",
      "1000/1000 [==============================] - 0s 398us/step - loss: 2.1235 - accuracy: 0.2340 - val_loss: 2.2130 - val_accuracy: 0.1871\n",
      "Epoch 39/150\n",
      "1000/1000 [==============================] - 0s 385us/step - loss: 2.1184 - accuracy: 0.2310 - val_loss: 2.2086 - val_accuracy: 0.1881\n",
      "Epoch 40/150\n",
      "1000/1000 [==============================] - 0s 392us/step - loss: 2.1139 - accuracy: 0.2280 - val_loss: 2.2073 - val_accuracy: 0.1904\n",
      "Epoch 41/150\n",
      "1000/1000 [==============================] - 0s 388us/step - loss: 2.1083 - accuracy: 0.2360 - val_loss: 2.2070 - val_accuracy: 0.1918\n",
      "Epoch 42/150\n",
      "1000/1000 [==============================] - 0s 418us/step - loss: 2.1036 - accuracy: 0.2390 - val_loss: 2.2028 - val_accuracy: 0.1935\n",
      "Epoch 43/150\n",
      "1000/1000 [==============================] - 0s 360us/step - loss: 2.0982 - accuracy: 0.2340 - val_loss: 2.1996 - val_accuracy: 0.1952\n",
      "Epoch 44/150\n",
      "1000/1000 [==============================] - 0s 425us/step - loss: 2.0932 - accuracy: 0.2330 - val_loss: 2.1994 - val_accuracy: 0.1955\n",
      "Epoch 45/150\n",
      "1000/1000 [==============================] - 0s 417us/step - loss: 2.0886 - accuracy: 0.2370 - val_loss: 2.1949 - val_accuracy: 0.1984\n",
      "Epoch 46/150\n",
      "1000/1000 [==============================] - 0s 376us/step - loss: 2.0834 - accuracy: 0.2360 - val_loss: 2.1913 - val_accuracy: 0.2010\n",
      "Epoch 47/150\n",
      "1000/1000 [==============================] - 0s 426us/step - loss: 2.0787 - accuracy: 0.2460 - val_loss: 2.1897 - val_accuracy: 0.2037\n",
      "Epoch 48/150\n",
      "1000/1000 [==============================] - 0s 453us/step - loss: 2.0735 - accuracy: 0.2540 - val_loss: 2.1877 - val_accuracy: 0.2054\n",
      "Epoch 49/150\n",
      "1000/1000 [==============================] - 0s 402us/step - loss: 2.0684 - accuracy: 0.2570 - val_loss: 2.1843 - val_accuracy: 0.2100\n",
      "Epoch 50/150\n",
      "1000/1000 [==============================] - 0s 441us/step - loss: 2.0637 - accuracy: 0.2660 - val_loss: 2.1834 - val_accuracy: 0.2113\n"
     ]
    },
    {
     "name": "stdout",
     "output_type": "stream",
     "text": [
      "Epoch 51/150\n",
      "1000/1000 [==============================] - 0s 373us/step - loss: 2.0585 - accuracy: 0.2680 - val_loss: 2.1845 - val_accuracy: 0.2094\n",
      "Epoch 52/150\n",
      "1000/1000 [==============================] - 0s 352us/step - loss: 2.0540 - accuracy: 0.2700 - val_loss: 2.1790 - val_accuracy: 0.2137\n",
      "Epoch 53/150\n",
      "1000/1000 [==============================] - 0s 352us/step - loss: 2.0490 - accuracy: 0.2750 - val_loss: 2.1768 - val_accuracy: 0.2173\n",
      "Epoch 54/150\n",
      "1000/1000 [==============================] - 0s 397us/step - loss: 2.0432 - accuracy: 0.2810 - val_loss: 2.1759 - val_accuracy: 0.2177\n",
      "Epoch 55/150\n",
      "1000/1000 [==============================] - 0s 370us/step - loss: 2.0380 - accuracy: 0.2860 - val_loss: 2.1719 - val_accuracy: 0.2198\n",
      "Epoch 56/150\n",
      "1000/1000 [==============================] - 0s 361us/step - loss: 2.0328 - accuracy: 0.2900 - val_loss: 2.1718 - val_accuracy: 0.2197\n",
      "Epoch 57/150\n",
      "1000/1000 [==============================] - 0s 341us/step - loss: 2.0269 - accuracy: 0.2960 - val_loss: 2.1704 - val_accuracy: 0.2221\n",
      "Epoch 58/150\n",
      "1000/1000 [==============================] - 0s 354us/step - loss: 2.0210 - accuracy: 0.2990 - val_loss: 2.1681 - val_accuracy: 0.2230\n",
      "Epoch 59/150\n",
      "1000/1000 [==============================] - 0s 344us/step - loss: 2.0153 - accuracy: 0.2980 - val_loss: 2.1685 - val_accuracy: 0.2221\n",
      "Epoch 60/150\n",
      "1000/1000 [==============================] - 0s 350us/step - loss: 2.0094 - accuracy: 0.3050 - val_loss: 2.1648 - val_accuracy: 0.2240\n",
      "Epoch 61/150\n",
      "1000/1000 [==============================] - 0s 353us/step - loss: 2.0028 - accuracy: 0.3090 - val_loss: 2.1621 - val_accuracy: 0.2260\n",
      "Epoch 62/150\n",
      "1000/1000 [==============================] - 0s 362us/step - loss: 1.9965 - accuracy: 0.3090 - val_loss: 2.1577 - val_accuracy: 0.2303\n",
      "Epoch 63/150\n",
      "1000/1000 [==============================] - 0s 369us/step - loss: 1.9905 - accuracy: 0.3120 - val_loss: 2.1566 - val_accuracy: 0.2304\n",
      "Epoch 64/150\n",
      "1000/1000 [==============================] - 0s 432us/step - loss: 1.9844 - accuracy: 0.3210 - val_loss: 2.1519 - val_accuracy: 0.2326\n",
      "Epoch 65/150\n",
      "1000/1000 [==============================] - 0s 379us/step - loss: 1.9794 - accuracy: 0.3240 - val_loss: 2.1624 - val_accuracy: 0.2253\n",
      "Epoch 66/150\n",
      "1000/1000 [==============================] - 0s 406us/step - loss: 1.9792 - accuracy: 0.3150 - val_loss: 2.1597 - val_accuracy: 0.2279\n",
      "Epoch 67/150\n",
      "1000/1000 [==============================] - 0s 429us/step - loss: 1.9900 - accuracy: 0.3220 - val_loss: 2.1656 - val_accuracy: 0.2239\n",
      "Epoch 68/150\n",
      "1000/1000 [==============================] - 0s 406us/step - loss: 1.9747 - accuracy: 0.3110 - val_loss: 2.1426 - val_accuracy: 0.2379\n",
      "Epoch 69/150\n",
      "1000/1000 [==============================] - 0s 446us/step - loss: 1.9540 - accuracy: 0.3310 - val_loss: 2.1434 - val_accuracy: 0.2384\n",
      "Epoch 70/150\n",
      "1000/1000 [==============================] - 0s 418us/step - loss: 1.9584 - accuracy: 0.3290 - val_loss: 2.1530 - val_accuracy: 0.2308\n",
      "Epoch 71/150\n",
      "1000/1000 [==============================] - 0s 410us/step - loss: 1.9514 - accuracy: 0.3220 - val_loss: 2.1359 - val_accuracy: 0.2410\n",
      "Epoch 72/150\n",
      "1000/1000 [==============================] - 0s 370us/step - loss: 1.9356 - accuracy: 0.3290 - val_loss: 2.1336 - val_accuracy: 0.2390\n",
      "Epoch 73/150\n",
      "1000/1000 [==============================] - 0s 368us/step - loss: 1.9355 - accuracy: 0.3250 - val_loss: 2.1420 - val_accuracy: 0.2337\n",
      "Epoch 74/150\n",
      "1000/1000 [==============================] - 0s 352us/step - loss: 1.9319 - accuracy: 0.3230 - val_loss: 2.1265 - val_accuracy: 0.2449\n",
      "Epoch 75/150\n",
      "1000/1000 [==============================] - 0s 391us/step - loss: 1.9193 - accuracy: 0.3390 - val_loss: 2.1237 - val_accuracy: 0.2452\n",
      "Epoch 76/150\n",
      "1000/1000 [==============================] - 0s 384us/step - loss: 1.9135 - accuracy: 0.3390 - val_loss: 2.1317 - val_accuracy: 0.2411\n",
      "Epoch 77/150\n",
      "1000/1000 [==============================] - 0s 392us/step - loss: 1.9126 - accuracy: 0.3340 - val_loss: 2.1191 - val_accuracy: 0.2467\n",
      "Epoch 78/150\n",
      "1000/1000 [==============================] - 0s 379us/step - loss: 1.9035 - accuracy: 0.3460 - val_loss: 2.1182 - val_accuracy: 0.2460\n",
      "Epoch 79/150\n",
      "1000/1000 [==============================] - 0s 399us/step - loss: 1.8931 - accuracy: 0.3360 - val_loss: 2.1241 - val_accuracy: 0.2421\n",
      "Epoch 80/150\n",
      "1000/1000 [==============================] - 0s 376us/step - loss: 1.8910 - accuracy: 0.3430 - val_loss: 2.1146 - val_accuracy: 0.2490\n",
      "Epoch 81/150\n",
      "1000/1000 [==============================] - 0s 379us/step - loss: 1.8873 - accuracy: 0.3540 - val_loss: 2.1133 - val_accuracy: 0.2504\n",
      "Epoch 82/150\n",
      "1000/1000 [==============================] - 0s 379us/step - loss: 1.8747 - accuracy: 0.3480 - val_loss: 2.1090 - val_accuracy: 0.2511\n",
      "Epoch 83/150\n",
      "1000/1000 [==============================] - 0s 363us/step - loss: 1.8675 - accuracy: 0.3510 - val_loss: 2.1039 - val_accuracy: 0.2530\n",
      "Epoch 84/150\n",
      "1000/1000 [==============================] - 0s 404us/step - loss: 1.8647 - accuracy: 0.3680 - val_loss: 2.1098 - val_accuracy: 0.2499\n",
      "Epoch 85/150\n",
      "1000/1000 [==============================] - 0s 376us/step - loss: 1.8573 - accuracy: 0.3510 - val_loss: 2.0980 - val_accuracy: 0.2528\n",
      "Epoch 86/150\n",
      "1000/1000 [==============================] - 0s 383us/step - loss: 1.8476 - accuracy: 0.3780 - val_loss: 2.0973 - val_accuracy: 0.2548\n",
      "Epoch 87/150\n",
      "1000/1000 [==============================] - 0s 350us/step - loss: 1.8388 - accuracy: 0.3710 - val_loss: 2.0999 - val_accuracy: 0.2538\n",
      "Epoch 88/150\n",
      "1000/1000 [==============================] - 0s 396us/step - loss: 1.8348 - accuracy: 0.3730 - val_loss: 2.0910 - val_accuracy: 0.2548\n",
      "Epoch 89/150\n",
      "1000/1000 [==============================] - 0s 391us/step - loss: 1.8278 - accuracy: 0.3890 - val_loss: 2.0930 - val_accuracy: 0.2549\n",
      "Epoch 90/150\n",
      "1000/1000 [==============================] - 0s 397us/step - loss: 1.8179 - accuracy: 0.3800 - val_loss: 2.0861 - val_accuracy: 0.2581\n",
      "Epoch 91/150\n",
      "1000/1000 [==============================] - 0s 379us/step - loss: 1.8111 - accuracy: 0.3890 - val_loss: 2.0839 - val_accuracy: 0.2570\n",
      "Epoch 92/150\n",
      "1000/1000 [==============================] - 0s 372us/step - loss: 1.8050 - accuracy: 0.3920 - val_loss: 2.0813 - val_accuracy: 0.2592\n",
      "Epoch 93/150\n",
      "1000/1000 [==============================] - 0s 400us/step - loss: 1.7937 - accuracy: 0.3900 - val_loss: 2.0745 - val_accuracy: 0.2620\n",
      "Epoch 94/150\n",
      "1000/1000 [==============================] - 0s 400us/step - loss: 1.7844 - accuracy: 0.3970 - val_loss: 2.0756 - val_accuracy: 0.2622\n",
      "Epoch 95/150\n",
      "1000/1000 [==============================] - 0s 395us/step - loss: 1.7783 - accuracy: 0.4060 - val_loss: 2.0722 - val_accuracy: 0.2595\n",
      "Epoch 96/150\n",
      "1000/1000 [==============================] - 0s 398us/step - loss: 1.7730 - accuracy: 0.4100 - val_loss: 2.0825 - val_accuracy: 0.2603\n",
      "Epoch 97/150\n",
      "1000/1000 [==============================] - 0s 367us/step - loss: 1.7689 - accuracy: 0.4000 - val_loss: 2.0716 - val_accuracy: 0.2614\n",
      "Epoch 98/150\n",
      "1000/1000 [==============================] - 0s 412us/step - loss: 1.7674 - accuracy: 0.4050 - val_loss: 2.0854 - val_accuracy: 0.2587\n",
      "Epoch 99/150\n",
      "1000/1000 [==============================] - 0s 347us/step - loss: 1.7579 - accuracy: 0.4100 - val_loss: 2.0614 - val_accuracy: 0.2650\n",
      "Epoch 100/150\n",
      "1000/1000 [==============================] - 0s 419us/step - loss: 1.7436 - accuracy: 0.4180 - val_loss: 2.0613 - val_accuracy: 0.2678\n",
      "Epoch 101/150\n",
      "1000/1000 [==============================] - 0s 394us/step - loss: 1.7289 - accuracy: 0.4340 - val_loss: 2.0563 - val_accuracy: 0.2673\n",
      "Epoch 102/150\n",
      "1000/1000 [==============================] - 0s 389us/step - loss: 1.7190 - accuracy: 0.4300 - val_loss: 2.0496 - val_accuracy: 0.2703\n",
      "Epoch 103/150\n",
      "1000/1000 [==============================] - 0s 406us/step - loss: 1.7103 - accuracy: 0.4390 - val_loss: 2.0550 - val_accuracy: 0.2711\n",
      "Epoch 104/150\n",
      "1000/1000 [==============================] - 0s 368us/step - loss: 1.7034 - accuracy: 0.4390 - val_loss: 2.0478 - val_accuracy: 0.2706\n",
      "Epoch 105/150\n",
      "1000/1000 [==============================] - 0s 398us/step - loss: 1.7021 - accuracy: 0.4380 - val_loss: 2.0691 - val_accuracy: 0.2653\n",
      "Epoch 106/150\n",
      "1000/1000 [==============================] - 0s 408us/step - loss: 1.7076 - accuracy: 0.4280 - val_loss: 2.0485 - val_accuracy: 0.2710\n"
     ]
    },
    {
     "name": "stdout",
     "output_type": "stream",
     "text": [
      "Epoch 107/150\n",
      "1000/1000 [==============================] - 0s 414us/step - loss: 1.6991 - accuracy: 0.4280 - val_loss: 2.0524 - val_accuracy: 0.2696\n",
      "Epoch 108/150\n",
      "1000/1000 [==============================] - 0s 424us/step - loss: 1.6793 - accuracy: 0.4410 - val_loss: 2.0312 - val_accuracy: 0.2800\n",
      "Epoch 109/150\n",
      "1000/1000 [==============================] - 0s 394us/step - loss: 1.6635 - accuracy: 0.4540 - val_loss: 2.0317 - val_accuracy: 0.2756\n",
      "Epoch 110/150\n",
      "1000/1000 [==============================] - 0s 412us/step - loss: 1.6560 - accuracy: 0.4480 - val_loss: 2.0455 - val_accuracy: 0.2723\n",
      "Epoch 111/150\n",
      "1000/1000 [==============================] - 0s 419us/step - loss: 1.6564 - accuracy: 0.4430 - val_loss: 2.0395 - val_accuracy: 0.2767\n",
      "Epoch 112/150\n",
      "1000/1000 [==============================] - 0s 393us/step - loss: 1.6632 - accuracy: 0.4420 - val_loss: 2.0497 - val_accuracy: 0.2689\n",
      "Epoch 113/150\n",
      "1000/1000 [==============================] - 0s 396us/step - loss: 1.6455 - accuracy: 0.4530 - val_loss: 2.0198 - val_accuracy: 0.2851\n",
      "Epoch 114/150\n",
      "1000/1000 [==============================] - 0s 400us/step - loss: 1.6212 - accuracy: 0.4610 - val_loss: 2.0175 - val_accuracy: 0.2842\n",
      "Epoch 115/150\n",
      "1000/1000 [==============================] - 0s 394us/step - loss: 1.6161 - accuracy: 0.4630 - val_loss: 2.0418 - val_accuracy: 0.2716\n",
      "Epoch 116/150\n",
      "1000/1000 [==============================] - 0s 394us/step - loss: 1.6221 - accuracy: 0.4650 - val_loss: 2.0240 - val_accuracy: 0.2850\n",
      "Epoch 117/150\n",
      "1000/1000 [==============================] - 0s 420us/step - loss: 1.6182 - accuracy: 0.4600 - val_loss: 2.0192 - val_accuracy: 0.2820\n",
      "Epoch 118/150\n",
      "1000/1000 [==============================] - 0s 421us/step - loss: 1.5939 - accuracy: 0.4650 - val_loss: 2.0155 - val_accuracy: 0.2806\n",
      "Epoch 119/150\n",
      "1000/1000 [==============================] - 0s 384us/step - loss: 1.5850 - accuracy: 0.4760 - val_loss: 2.0140 - val_accuracy: 0.2888\n",
      "Epoch 120/150\n",
      "1000/1000 [==============================] - 0s 420us/step - loss: 1.5871 - accuracy: 0.4740 - val_loss: 2.0253 - val_accuracy: 0.2801\n",
      "Epoch 121/150\n",
      "1000/1000 [==============================] - 0s 402us/step - loss: 1.5780 - accuracy: 0.4800 - val_loss: 2.0100 - val_accuracy: 0.2846\n",
      "Epoch 122/150\n",
      "1000/1000 [==============================] - 0s 414us/step - loss: 1.5671 - accuracy: 0.4800 - val_loss: 2.0085 - val_accuracy: 0.2945\n",
      "Epoch 123/150\n",
      "1000/1000 [==============================] - 0s 443us/step - loss: 1.5580 - accuracy: 0.4810 - val_loss: 2.0122 - val_accuracy: 0.2856\n",
      "Epoch 124/150\n",
      "1000/1000 [==============================] - 0s 401us/step - loss: 1.5482 - accuracy: 0.4840 - val_loss: 2.0068 - val_accuracy: 0.2892\n",
      "Epoch 125/150\n",
      "1000/1000 [==============================] - 0s 420us/step - loss: 1.5446 - accuracy: 0.4880 - val_loss: 2.0186 - val_accuracy: 0.2895\n",
      "Epoch 126/150\n",
      "1000/1000 [==============================] - 0s 392us/step - loss: 1.5457 - accuracy: 0.4840 - val_loss: 2.0067 - val_accuracy: 0.2878\n",
      "Epoch 127/150\n",
      "1000/1000 [==============================] - 0s 425us/step - loss: 1.5306 - accuracy: 0.4890 - val_loss: 2.0049 - val_accuracy: 0.2911\n",
      "Epoch 128/150\n",
      "1000/1000 [==============================] - 0s 400us/step - loss: 1.5172 - accuracy: 0.5070 - val_loss: 2.0052 - val_accuracy: 0.2953\n",
      "Epoch 129/150\n",
      "1000/1000 [==============================] - 0s 407us/step - loss: 1.5137 - accuracy: 0.4970 - val_loss: 2.0049 - val_accuracy: 0.2895\n",
      "Epoch 130/150\n",
      "1000/1000 [==============================] - 0s 394us/step - loss: 1.5083 - accuracy: 0.5010 - val_loss: 2.0083 - val_accuracy: 0.2923\n",
      "Epoch 131/150\n",
      "1000/1000 [==============================] - 0s 386us/step - loss: 1.4995 - accuracy: 0.5100 - val_loss: 2.0025 - val_accuracy: 0.2947\n",
      "Epoch 132/150\n",
      "1000/1000 [==============================] - 0s 407us/step - loss: 1.4925 - accuracy: 0.5000 - val_loss: 2.0123 - val_accuracy: 0.2899\n",
      "Epoch 133/150\n",
      "1000/1000 [==============================] - 0s 429us/step - loss: 1.4878 - accuracy: 0.5160 - val_loss: 2.0042 - val_accuracy: 0.2965\n",
      "Epoch 134/150\n",
      "1000/1000 [==============================] - 0s 411us/step - loss: 1.4811 - accuracy: 0.4980 - val_loss: 2.0104 - val_accuracy: 0.2936\n",
      "Epoch 135/150\n",
      "1000/1000 [==============================] - 0s 426us/step - loss: 1.4718 - accuracy: 0.5180 - val_loss: 2.0020 - val_accuracy: 0.2964\n",
      "Epoch 136/150\n",
      "1000/1000 [==============================] - 0s 387us/step - loss: 1.4640 - accuracy: 0.5160 - val_loss: 2.0100 - val_accuracy: 0.2968\n",
      "Epoch 137/150\n",
      "1000/1000 [==============================] - 0s 388us/step - loss: 1.4584 - accuracy: 0.5240 - val_loss: 2.0099 - val_accuracy: 0.2942\n",
      "Epoch 138/150\n",
      "1000/1000 [==============================] - 0s 392us/step - loss: 1.4567 - accuracy: 0.5140 - val_loss: 2.0219 - val_accuracy: 0.2960\n",
      "Epoch 139/150\n",
      "1000/1000 [==============================] - 0s 401us/step - loss: 1.4557 - accuracy: 0.5220 - val_loss: 2.0147 - val_accuracy: 0.2944\n",
      "Epoch 140/150\n",
      "1000/1000 [==============================] - 0s 402us/step - loss: 1.4503 - accuracy: 0.5170 - val_loss: 2.0314 - val_accuracy: 0.2923\n",
      "Epoch 141/150\n",
      "1000/1000 [==============================] - 0s 426us/step - loss: 1.4471 - accuracy: 0.5180 - val_loss: 2.0195 - val_accuracy: 0.2985\n",
      "Epoch 142/150\n",
      "1000/1000 [==============================] - 0s 421us/step - loss: 1.4467 - accuracy: 0.5170 - val_loss: 2.0526 - val_accuracy: 0.2852\n",
      "Epoch 143/150\n",
      "1000/1000 [==============================] - 0s 391us/step - loss: 1.4485 - accuracy: 0.5150 - val_loss: 2.0299 - val_accuracy: 0.2985\n",
      "Epoch 144/150\n",
      "1000/1000 [==============================] - 0s 403us/step - loss: 1.4454 - accuracy: 0.5130 - val_loss: 2.0262 - val_accuracy: 0.2942\n",
      "Epoch 145/150\n",
      "1000/1000 [==============================] - 0s 385us/step - loss: 1.4144 - accuracy: 0.5360 - val_loss: 2.0109 - val_accuracy: 0.3021\n",
      "Epoch 146/150\n",
      "1000/1000 [==============================] - 0s 462us/step - loss: 1.3965 - accuracy: 0.5320 - val_loss: 2.0133 - val_accuracy: 0.3052\n",
      "Epoch 147/150\n",
      "1000/1000 [==============================] - 0s 411us/step - loss: 1.4017 - accuracy: 0.5400 - val_loss: 2.0467 - val_accuracy: 0.2899\n",
      "Epoch 148/150\n",
      "1000/1000 [==============================] - 0s 407us/step - loss: 1.4093 - accuracy: 0.5330 - val_loss: 2.0267 - val_accuracy: 0.3035\n",
      "Epoch 149/150\n",
      "1000/1000 [==============================] - 0s 409us/step - loss: 1.4042 - accuracy: 0.5260 - val_loss: 2.0283 - val_accuracy: 0.2983\n",
      "Epoch 150/150\n",
      "1000/1000 [==============================] - 0s 492us/step - loss: 1.3803 - accuracy: 0.5380 - val_loss: 2.0197 - val_accuracy: 0.3000\n",
      "Wall time: 1min 4s\n"
     ]
    },
    {
     "data": {
      "text/plain": [
       "<keras.callbacks.callbacks.History at 0x23e12035208>"
      ]
     },
     "execution_count": 24,
     "metadata": {},
     "output_type": "execute_result"
    }
   ],
   "source": [
    "# %%time\n",
    "# num_epochs=150\n",
    "# batch_size=1000\n",
    "\n",
    "# model_1.fit(x=x_train_xs, y=y_train_xs, batch_size=batch_size, epochs=num_epochs, \n",
    "#             callbacks=[get_tensor_board('Model 1')], validation_data=(x_val, y_val))"
   ]
  },
  {
   "cell_type": "code",
   "execution_count": 25,
   "metadata": {},
   "outputs": [
    {
     "name": "stdout",
     "output_type": "stream",
     "text": [
      "Successfully created directory\n",
      "Train on 1000 samples, validate on 10000 samples\n",
      "Epoch 1/150\n",
      "1000/1000 [==============================] - 1s 593us/step - loss: 2.4251 - accuracy: 0.1160 - val_loss: 2.3581 - val_accuracy: 0.0965\n",
      "Epoch 2/150\n",
      "1000/1000 [==============================] - 0s 446us/step - loss: 2.3620 - accuracy: 0.0940 - val_loss: 2.3324 - val_accuracy: 0.0811\n",
      "Epoch 3/150\n",
      "1000/1000 [==============================] - 0s 408us/step - loss: 2.3308 - accuracy: 0.0930 - val_loss: 2.3263 - val_accuracy: 0.0913\n",
      "Epoch 4/150\n",
      "1000/1000 [==============================] - 0s 383us/step - loss: 2.3359 - accuracy: 0.0970 - val_loss: 2.3377 - val_accuracy: 0.0970\n",
      "Epoch 5/150\n",
      "1000/1000 [==============================] - 0s 405us/step - loss: 2.3244 - accuracy: 0.1060 - val_loss: 2.2912 - val_accuracy: 0.1357\n",
      "Epoch 6/150\n",
      "1000/1000 [==============================] - 0s 390us/step - loss: 2.2764 - accuracy: 0.1450 - val_loss: 2.2870 - val_accuracy: 0.1267\n",
      "Epoch 7/150\n",
      "1000/1000 [==============================] - 0s 387us/step - loss: 2.2853 - accuracy: 0.1350 - val_loss: 2.2638 - val_accuracy: 0.1807\n",
      "Epoch 8/150\n",
      "1000/1000 [==============================] - 0s 393us/step - loss: 2.2625 - accuracy: 0.1610 - val_loss: 2.2631 - val_accuracy: 0.1498\n",
      "Epoch 9/150\n",
      "1000/1000 [==============================] - 0s 392us/step - loss: 2.2525 - accuracy: 0.1560 - val_loss: 2.2585 - val_accuracy: 0.1608\n",
      "Epoch 10/150\n",
      "1000/1000 [==============================] - 0s 391us/step - loss: 2.2449 - accuracy: 0.1720 - val_loss: 2.2553 - val_accuracy: 0.1636\n",
      "Epoch 11/150\n",
      "1000/1000 [==============================] - 0s 385us/step - loss: 2.2422 - accuracy: 0.1710 - val_loss: 2.2423 - val_accuracy: 0.1810\n",
      "Epoch 12/150\n",
      "1000/1000 [==============================] - 0s 389us/step - loss: 2.2209 - accuracy: 0.1810 - val_loss: 2.2375 - val_accuracy: 0.1789\n",
      "Epoch 13/150\n",
      "1000/1000 [==============================] - 0s 408us/step - loss: 2.2158 - accuracy: 0.1800 - val_loss: 2.2350 - val_accuracy: 0.1779\n",
      "Epoch 14/150\n",
      "1000/1000 [==============================] - 0s 397us/step - loss: 2.2102 - accuracy: 0.1910 - val_loss: 2.2276 - val_accuracy: 0.1804\n",
      "Epoch 15/150\n",
      "1000/1000 [==============================] - 0s 428us/step - loss: 2.2065 - accuracy: 0.1870 - val_loss: 2.2308 - val_accuracy: 0.1736\n",
      "Epoch 16/150\n",
      "1000/1000 [==============================] - 0s 444us/step - loss: 2.2084 - accuracy: 0.1820 - val_loss: 2.2254 - val_accuracy: 0.1762\n",
      "Epoch 17/150\n",
      "1000/1000 [==============================] - 0s 444us/step - loss: 2.1942 - accuracy: 0.1940 - val_loss: 2.2230 - val_accuracy: 0.1820\n",
      "Epoch 18/150\n",
      "1000/1000 [==============================] - 0s 427us/step - loss: 2.1962 - accuracy: 0.2080 - val_loss: 2.2148 - val_accuracy: 0.1948\n",
      "Epoch 19/150\n",
      "1000/1000 [==============================] - 0s 428us/step - loss: 2.1874 - accuracy: 0.2200 - val_loss: 2.2130 - val_accuracy: 0.2029\n",
      "Epoch 20/150\n",
      "1000/1000 [==============================] - 1s 564us/step - loss: 2.1795 - accuracy: 0.2260 - val_loss: 2.2118 - val_accuracy: 0.2006\n",
      "Epoch 21/150\n",
      "1000/1000 [==============================] - 1s 707us/step - loss: 2.1726 - accuracy: 0.2080 - val_loss: 2.2121 - val_accuracy: 0.1892\n",
      "Epoch 22/150\n",
      "1000/1000 [==============================] - 1s 518us/step - loss: 2.1678 - accuracy: 0.2100 - val_loss: 2.2124 - val_accuracy: 0.1856\n",
      "Epoch 23/150\n",
      "1000/1000 [==============================] - 0s 436us/step - loss: 2.1680 - accuracy: 0.2090 - val_loss: 2.2052 - val_accuracy: 0.1979\n",
      "Epoch 24/150\n",
      "1000/1000 [==============================] - 0s 421us/step - loss: 2.1540 - accuracy: 0.2300 - val_loss: 2.2032 - val_accuracy: 0.2027\n",
      "Epoch 25/150\n",
      "1000/1000 [==============================] - 0s 418us/step - loss: 2.1550 - accuracy: 0.2240 - val_loss: 2.2004 - val_accuracy: 0.1963\n",
      "Epoch 26/150\n",
      "1000/1000 [==============================] - 0s 440us/step - loss: 2.1428 - accuracy: 0.2320 - val_loss: 2.2022 - val_accuracy: 0.1916\n",
      "Epoch 27/150\n",
      "1000/1000 [==============================] - 0s 419us/step - loss: 2.1355 - accuracy: 0.2270 - val_loss: 2.1954 - val_accuracy: 0.2026\n",
      "Epoch 28/150\n",
      "1000/1000 [==============================] - 0s 417us/step - loss: 2.1289 - accuracy: 0.2280 - val_loss: 2.1924 - val_accuracy: 0.2082\n",
      "Epoch 29/150\n",
      "1000/1000 [==============================] - 0s 415us/step - loss: 2.1330 - accuracy: 0.2290 - val_loss: 2.1906 - val_accuracy: 0.2059\n",
      "Epoch 30/150\n",
      "1000/1000 [==============================] - 1s 511us/step - loss: 2.1193 - accuracy: 0.2300 - val_loss: 2.1891 - val_accuracy: 0.1975\n",
      "Epoch 31/150\n",
      "1000/1000 [==============================] - 0s 429us/step - loss: 2.1194 - accuracy: 0.2250 - val_loss: 2.1832 - val_accuracy: 0.2032\n",
      "Epoch 32/150\n",
      "1000/1000 [==============================] - 0s 418us/step - loss: 2.1129 - accuracy: 0.2330 - val_loss: 2.1805 - val_accuracy: 0.2052\n",
      "Epoch 33/150\n",
      "1000/1000 [==============================] - 0s 416us/step - loss: 2.1091 - accuracy: 0.2250 - val_loss: 2.1798 - val_accuracy: 0.2033\n",
      "Epoch 34/150\n",
      "1000/1000 [==============================] - 0s 418us/step - loss: 2.0984 - accuracy: 0.2400 - val_loss: 2.1763 - val_accuracy: 0.2034\n",
      "Epoch 35/150\n",
      "1000/1000 [==============================] - 0s 428us/step - loss: 2.0903 - accuracy: 0.2380 - val_loss: 2.1731 - val_accuracy: 0.2081\n",
      "Epoch 36/150\n",
      "1000/1000 [==============================] - 1s 600us/step - loss: 2.0921 - accuracy: 0.2490 - val_loss: 2.1703 - val_accuracy: 0.2075\n",
      "Epoch 37/150\n",
      "1000/1000 [==============================] - 1s 563us/step - loss: 2.0843 - accuracy: 0.2420 - val_loss: 2.1699 - val_accuracy: 0.2110\n",
      "Epoch 38/150\n",
      "1000/1000 [==============================] - 0s 425us/step - loss: 2.0781 - accuracy: 0.2510 - val_loss: 2.1650 - val_accuracy: 0.2123\n",
      "Epoch 39/150\n",
      "1000/1000 [==============================] - 0s 418us/step - loss: 2.0748 - accuracy: 0.2500 - val_loss: 2.1608 - val_accuracy: 0.2148\n",
      "Epoch 40/150\n",
      "1000/1000 [==============================] - 0s 431us/step - loss: 2.0627 - accuracy: 0.2500 - val_loss: 2.1608 - val_accuracy: 0.2118\n",
      "Epoch 41/150\n",
      "1000/1000 [==============================] - 0s 413us/step - loss: 2.0669 - accuracy: 0.2510 - val_loss: 2.1550 - val_accuracy: 0.2158\n",
      "Epoch 42/150\n",
      "1000/1000 [==============================] - 0s 416us/step - loss: 2.0490 - accuracy: 0.2550 - val_loss: 2.1520 - val_accuracy: 0.2174\n",
      "Epoch 43/150\n",
      "1000/1000 [==============================] - 0s 421us/step - loss: 2.0429 - accuracy: 0.2680 - val_loss: 2.1469 - val_accuracy: 0.2168\n",
      "Epoch 44/150\n",
      "1000/1000 [==============================] - 0s 413us/step - loss: 2.0343 - accuracy: 0.2620 - val_loss: 2.1445 - val_accuracy: 0.2239\n",
      "Epoch 45/150\n",
      "1000/1000 [==============================] - 0s 455us/step - loss: 2.0336 - accuracy: 0.2710 - val_loss: 2.1418 - val_accuracy: 0.2311\n",
      "Epoch 46/150\n",
      "1000/1000 [==============================] - 0s 472us/step - loss: 2.0195 - accuracy: 0.2890 - val_loss: 2.1375 - val_accuracy: 0.2311\n",
      "Epoch 47/150\n",
      "1000/1000 [==============================] - 0s 430us/step - loss: 2.0133 - accuracy: 0.2790 - val_loss: 2.1358 - val_accuracy: 0.2318\n",
      "Epoch 48/150\n",
      "1000/1000 [==============================] - 0s 427us/step - loss: 2.0053 - accuracy: 0.2910 - val_loss: 2.1360 - val_accuracy: 0.2290\n",
      "Epoch 49/150\n",
      "1000/1000 [==============================] - 0s 411us/step - loss: 2.0096 - accuracy: 0.2650 - val_loss: 2.1321 - val_accuracy: 0.2338\n",
      "Epoch 50/150\n",
      "1000/1000 [==============================] - 0s 415us/step - loss: 2.0037 - accuracy: 0.2750 - val_loss: 2.1297 - val_accuracy: 0.2380\n",
      "Epoch 51/150\n",
      "1000/1000 [==============================] - 0s 406us/step - loss: 1.9896 - accuracy: 0.2850 - val_loss: 2.1265 - val_accuracy: 0.2385\n",
      "Epoch 52/150\n",
      "1000/1000 [==============================] - 0s 418us/step - loss: 1.9866 - accuracy: 0.2960 - val_loss: 2.1253 - val_accuracy: 0.2391\n",
      "Epoch 53/150\n",
      "1000/1000 [==============================] - 0s 411us/step - loss: 1.9784 - accuracy: 0.2950 - val_loss: 2.1318 - val_accuracy: 0.2432\n",
      "Epoch 54/150\n",
      "1000/1000 [==============================] - 0s 429us/step - loss: 1.9742 - accuracy: 0.3020 - val_loss: 2.1236 - val_accuracy: 0.2310\n",
      "Epoch 55/150\n",
      "1000/1000 [==============================] - 0s 413us/step - loss: 1.9793 - accuracy: 0.2940 - val_loss: 2.1180 - val_accuracy: 0.2428\n"
     ]
    },
    {
     "name": "stdout",
     "output_type": "stream",
     "text": [
      "Epoch 56/150\n",
      "1000/1000 [==============================] - 0s 411us/step - loss: 1.9580 - accuracy: 0.2930 - val_loss: 2.1174 - val_accuracy: 0.2493\n",
      "Epoch 57/150\n",
      "1000/1000 [==============================] - 0s 424us/step - loss: 1.9618 - accuracy: 0.3160 - val_loss: 2.1103 - val_accuracy: 0.2442\n",
      "Epoch 58/150\n",
      "1000/1000 [==============================] - 0s 423us/step - loss: 1.9500 - accuracy: 0.3300 - val_loss: 2.1098 - val_accuracy: 0.2528\n",
      "Epoch 59/150\n",
      "1000/1000 [==============================] - 0s 424us/step - loss: 1.9376 - accuracy: 0.3390 - val_loss: 2.1068 - val_accuracy: 0.2510\n",
      "Epoch 60/150\n",
      "1000/1000 [==============================] - 1s 627us/step - loss: 1.9294 - accuracy: 0.3350 - val_loss: 2.1082 - val_accuracy: 0.2491\n",
      "Epoch 61/150\n",
      "1000/1000 [==============================] - 0s 445us/step - loss: 1.9335 - accuracy: 0.3280 - val_loss: 2.1096 - val_accuracy: 0.2548\n",
      "Epoch 62/150\n",
      "1000/1000 [==============================] - 1s 586us/step - loss: 1.9328 - accuracy: 0.3240 - val_loss: 2.1059 - val_accuracy: 0.2539\n",
      "Epoch 63/150\n",
      "1000/1000 [==============================] - 0s 384us/step - loss: 1.9209 - accuracy: 0.3250 - val_loss: 2.1043 - val_accuracy: 0.2567\n",
      "Epoch 64/150\n",
      "1000/1000 [==============================] - 0s 405us/step - loss: 1.9142 - accuracy: 0.3490 - val_loss: 2.1025 - val_accuracy: 0.2579\n",
      "Epoch 65/150\n",
      "1000/1000 [==============================] - 0s 455us/step - loss: 1.9037 - accuracy: 0.3370 - val_loss: 2.0989 - val_accuracy: 0.2530\n",
      "Epoch 66/150\n",
      "1000/1000 [==============================] - 0s 452us/step - loss: 1.9015 - accuracy: 0.3310 - val_loss: 2.1013 - val_accuracy: 0.2576\n",
      "Epoch 67/150\n",
      "1000/1000 [==============================] - 0s 413us/step - loss: 1.8995 - accuracy: 0.3430 - val_loss: 2.0951 - val_accuracy: 0.2549\n",
      "Epoch 68/150\n",
      "1000/1000 [==============================] - 0s 454us/step - loss: 1.8799 - accuracy: 0.3440 - val_loss: 2.0969 - val_accuracy: 0.2656\n",
      "Epoch 69/150\n",
      "1000/1000 [==============================] - 0s 404us/step - loss: 1.8843 - accuracy: 0.3470 - val_loss: 2.0930 - val_accuracy: 0.2593\n",
      "Epoch 70/150\n",
      "1000/1000 [==============================] - 0s 399us/step - loss: 1.8893 - accuracy: 0.3350 - val_loss: 2.0925 - val_accuracy: 0.2657\n",
      "Epoch 71/150\n",
      "1000/1000 [==============================] - 0s 407us/step - loss: 1.8796 - accuracy: 0.3480 - val_loss: 2.0889 - val_accuracy: 0.2695\n",
      "Epoch 72/150\n",
      "1000/1000 [==============================] - 0s 387us/step - loss: 1.8644 - accuracy: 0.3550 - val_loss: 2.0880 - val_accuracy: 0.2684\n",
      "Epoch 73/150\n",
      "1000/1000 [==============================] - 0s 391us/step - loss: 1.8684 - accuracy: 0.3510 - val_loss: 2.0927 - val_accuracy: 0.2701\n",
      "Epoch 74/150\n",
      "1000/1000 [==============================] - 0s 414us/step - loss: 1.8535 - accuracy: 0.3520 - val_loss: 2.0844 - val_accuracy: 0.2657\n",
      "Epoch 75/150\n",
      "1000/1000 [==============================] - 0s 416us/step - loss: 1.8556 - accuracy: 0.3510 - val_loss: 2.0852 - val_accuracy: 0.2739\n",
      "Epoch 76/150\n",
      "1000/1000 [==============================] - 0s 396us/step - loss: 1.8500 - accuracy: 0.3630 - val_loss: 2.0798 - val_accuracy: 0.2708\n",
      "Epoch 77/150\n",
      "1000/1000 [==============================] - 0s 388us/step - loss: 1.8522 - accuracy: 0.3540 - val_loss: 2.0938 - val_accuracy: 0.2697\n",
      "Epoch 78/150\n",
      "1000/1000 [==============================] - 0s 449us/step - loss: 1.8472 - accuracy: 0.3620 - val_loss: 2.0987 - val_accuracy: 0.2609\n",
      "Epoch 79/150\n",
      "1000/1000 [==============================] - 0s 432us/step - loss: 1.8491 - accuracy: 0.3510 - val_loss: 2.0908 - val_accuracy: 0.2691\n",
      "Epoch 80/150\n",
      "1000/1000 [==============================] - 0s 409us/step - loss: 1.8426 - accuracy: 0.3640 - val_loss: 2.0724 - val_accuracy: 0.2782\n",
      "Epoch 81/150\n",
      "1000/1000 [==============================] - 0s 412us/step - loss: 1.8048 - accuracy: 0.3890 - val_loss: 2.0812 - val_accuracy: 0.2727\n",
      "Epoch 82/150\n",
      "1000/1000 [==============================] - 0s 402us/step - loss: 1.8220 - accuracy: 0.3530 - val_loss: 2.0768 - val_accuracy: 0.2761\n",
      "Epoch 83/150\n",
      "1000/1000 [==============================] - 0s 407us/step - loss: 1.8183 - accuracy: 0.3730 - val_loss: 2.0692 - val_accuracy: 0.2792\n",
      "Epoch 84/150\n",
      "1000/1000 [==============================] - 0s 384us/step - loss: 1.8022 - accuracy: 0.3670 - val_loss: 2.0763 - val_accuracy: 0.2775\n",
      "Epoch 85/150\n",
      "1000/1000 [==============================] - 0s 444us/step - loss: 1.8053 - accuracy: 0.3780 - val_loss: 2.0792 - val_accuracy: 0.2795\n",
      "Epoch 86/150\n",
      "1000/1000 [==============================] - 0s 441us/step - loss: 1.7861 - accuracy: 0.3780 - val_loss: 2.0736 - val_accuracy: 0.2780\n",
      "Epoch 87/150\n",
      "1000/1000 [==============================] - 0s 410us/step - loss: 1.7974 - accuracy: 0.3880 - val_loss: 2.0821 - val_accuracy: 0.2778\n",
      "Epoch 88/150\n",
      "1000/1000 [==============================] - 0s 457us/step - loss: 1.7858 - accuracy: 0.3810 - val_loss: 2.0731 - val_accuracy: 0.2774\n",
      "Epoch 89/150\n",
      "1000/1000 [==============================] - 0s 433us/step - loss: 1.7817 - accuracy: 0.3850 - val_loss: 2.0677 - val_accuracy: 0.2822\n",
      "Epoch 90/150\n",
      "1000/1000 [==============================] - 0s 416us/step - loss: 1.7759 - accuracy: 0.3880 - val_loss: 2.0696 - val_accuracy: 0.2789\n",
      "Epoch 91/150\n",
      "1000/1000 [==============================] - 0s 404us/step - loss: 1.7870 - accuracy: 0.3790 - val_loss: 2.0951 - val_accuracy: 0.2699\n",
      "Epoch 92/150\n",
      "1000/1000 [==============================] - 0s 394us/step - loss: 1.7903 - accuracy: 0.3840 - val_loss: 2.0748 - val_accuracy: 0.2757\n",
      "Epoch 93/150\n",
      "1000/1000 [==============================] - 0s 402us/step - loss: 1.7655 - accuracy: 0.3880 - val_loss: 2.0838 - val_accuracy: 0.2806\n",
      "Epoch 94/150\n",
      "1000/1000 [==============================] - 0s 398us/step - loss: 1.7699 - accuracy: 0.3890 - val_loss: 2.0708 - val_accuracy: 0.2809\n",
      "Epoch 95/150\n",
      "1000/1000 [==============================] - 0s 454us/step - loss: 1.7553 - accuracy: 0.3890 - val_loss: 2.0610 - val_accuracy: 0.2821\n",
      "Epoch 96/150\n",
      "1000/1000 [==============================] - 0s 435us/step - loss: 1.7415 - accuracy: 0.3980 - val_loss: 2.0857 - val_accuracy: 0.2776\n",
      "Epoch 97/150\n",
      "1000/1000 [==============================] - 0s 408us/step - loss: 1.7627 - accuracy: 0.3890 - val_loss: 2.0754 - val_accuracy: 0.2763\n",
      "Epoch 98/150\n",
      "1000/1000 [==============================] - 0s 450us/step - loss: 1.7588 - accuracy: 0.3820 - val_loss: 2.0670 - val_accuracy: 0.2867\n",
      "Epoch 99/150\n",
      "1000/1000 [==============================] - 0s 391us/step - loss: 1.7324 - accuracy: 0.4170 - val_loss: 2.0700 - val_accuracy: 0.2824\n",
      "Epoch 100/150\n",
      "1000/1000 [==============================] - 0s 397us/step - loss: 1.7314 - accuracy: 0.3970 - val_loss: 2.0689 - val_accuracy: 0.2797\n",
      "Epoch 101/150\n",
      "1000/1000 [==============================] - 0s 407us/step - loss: 1.7461 - accuracy: 0.3930 - val_loss: 2.0728 - val_accuracy: 0.2850\n",
      "Epoch 102/150\n",
      "1000/1000 [==============================] - 0s 415us/step - loss: 1.7209 - accuracy: 0.4230 - val_loss: 2.0684 - val_accuracy: 0.2847\n",
      "Epoch 103/150\n",
      "1000/1000 [==============================] - 0s 403us/step - loss: 1.7150 - accuracy: 0.4060 - val_loss: 2.0586 - val_accuracy: 0.2850\n",
      "Epoch 104/150\n",
      "1000/1000 [==============================] - 0s 426us/step - loss: 1.7165 - accuracy: 0.4050 - val_loss: 2.0714 - val_accuracy: 0.2829\n",
      "Epoch 105/150\n",
      "1000/1000 [==============================] - 0s 412us/step - loss: 1.7084 - accuracy: 0.4000 - val_loss: 2.0587 - val_accuracy: 0.2873\n",
      "Epoch 106/150\n",
      "1000/1000 [==============================] - 0s 447us/step - loss: 1.7141 - accuracy: 0.4080 - val_loss: 2.0583 - val_accuracy: 0.2884\n",
      "Epoch 107/150\n",
      "1000/1000 [==============================] - 0s 402us/step - loss: 1.7067 - accuracy: 0.4100 - val_loss: 2.0611 - val_accuracy: 0.2860\n",
      "Epoch 108/150\n",
      "1000/1000 [==============================] - 0s 395us/step - loss: 1.7152 - accuracy: 0.4080 - val_loss: 2.0551 - val_accuracy: 0.2862\n",
      "Epoch 109/150\n",
      "1000/1000 [==============================] - 0s 423us/step - loss: 1.6957 - accuracy: 0.4210 - val_loss: 2.0682 - val_accuracy: 0.2842\n",
      "Epoch 110/150\n",
      "1000/1000 [==============================] - 0s 428us/step - loss: 1.6918 - accuracy: 0.4030 - val_loss: 2.0540 - val_accuracy: 0.2886\n",
      "Epoch 111/150\n",
      "1000/1000 [==============================] - 0s 450us/step - loss: 1.6738 - accuracy: 0.4120 - val_loss: 2.0541 - val_accuracy: 0.2883\n"
     ]
    },
    {
     "name": "stdout",
     "output_type": "stream",
     "text": [
      "Epoch 112/150\n",
      "1000/1000 [==============================] - 0s 413us/step - loss: 1.6771 - accuracy: 0.4170 - val_loss: 2.0556 - val_accuracy: 0.2907\n",
      "Epoch 113/150\n",
      "1000/1000 [==============================] - 0s 410us/step - loss: 1.6616 - accuracy: 0.4230 - val_loss: 2.0578 - val_accuracy: 0.2846\n",
      "Epoch 114/150\n",
      "1000/1000 [==============================] - 0s 393us/step - loss: 1.6589 - accuracy: 0.4360 - val_loss: 2.0537 - val_accuracy: 0.2892\n",
      "Epoch 115/150\n",
      "1000/1000 [==============================] - 0s 393us/step - loss: 1.6644 - accuracy: 0.4170 - val_loss: 2.0696 - val_accuracy: 0.2885\n",
      "Epoch 116/150\n",
      "1000/1000 [==============================] - 0s 429us/step - loss: 1.6626 - accuracy: 0.4270 - val_loss: 2.0524 - val_accuracy: 0.2912\n",
      "Epoch 117/150\n",
      "1000/1000 [==============================] - 0s 426us/step - loss: 1.6543 - accuracy: 0.4310 - val_loss: 2.0569 - val_accuracy: 0.2875\n",
      "Epoch 118/150\n",
      "1000/1000 [==============================] - 0s 436us/step - loss: 1.6464 - accuracy: 0.4350 - val_loss: 2.0722 - val_accuracy: 0.2865\n",
      "Epoch 119/150\n",
      "1000/1000 [==============================] - 0s 445us/step - loss: 1.6438 - accuracy: 0.4290 - val_loss: 2.0632 - val_accuracy: 0.2902\n",
      "Epoch 120/150\n",
      "1000/1000 [==============================] - 0s 427us/step - loss: 1.6672 - accuracy: 0.4190 - val_loss: 2.0867 - val_accuracy: 0.2865\n",
      "Epoch 121/150\n",
      "1000/1000 [==============================] - 0s 395us/step - loss: 1.6611 - accuracy: 0.4310 - val_loss: 2.0555 - val_accuracy: 0.2905\n",
      "Epoch 122/150\n",
      "1000/1000 [==============================] - 0s 398us/step - loss: 1.6416 - accuracy: 0.4340 - val_loss: 2.0594 - val_accuracy: 0.2882\n",
      "Epoch 123/150\n",
      "1000/1000 [==============================] - 0s 389us/step - loss: 1.6318 - accuracy: 0.4230 - val_loss: 2.0705 - val_accuracy: 0.2853\n",
      "Epoch 124/150\n",
      "1000/1000 [==============================] - 0s 388us/step - loss: 1.6217 - accuracy: 0.4470 - val_loss: 2.0596 - val_accuracy: 0.2900\n",
      "Epoch 125/150\n",
      "1000/1000 [==============================] - 0s 397us/step - loss: 1.6247 - accuracy: 0.4370 - val_loss: 2.0622 - val_accuracy: 0.2881\n",
      "Epoch 126/150\n",
      "1000/1000 [==============================] - 0s 427us/step - loss: 1.6221 - accuracy: 0.4440 - val_loss: 2.0508 - val_accuracy: 0.2911\n",
      "Epoch 127/150\n",
      "1000/1000 [==============================] - 0s 400us/step - loss: 1.6242 - accuracy: 0.4360 - val_loss: 2.0500 - val_accuracy: 0.2917\n",
      "Epoch 128/150\n",
      "1000/1000 [==============================] - 0s 401us/step - loss: 1.6088 - accuracy: 0.4390 - val_loss: 2.0712 - val_accuracy: 0.2903\n",
      "Epoch 129/150\n",
      "1000/1000 [==============================] - 0s 411us/step - loss: 1.6173 - accuracy: 0.4500 - val_loss: 2.0570 - val_accuracy: 0.2932\n",
      "Epoch 130/150\n",
      "1000/1000 [==============================] - 0s 404us/step - loss: 1.6157 - accuracy: 0.4310 - val_loss: 2.0595 - val_accuracy: 0.2930\n",
      "Epoch 131/150\n",
      "1000/1000 [==============================] - 0s 402us/step - loss: 1.5854 - accuracy: 0.4460 - val_loss: 2.0631 - val_accuracy: 0.2929\n",
      "Epoch 132/150\n",
      "1000/1000 [==============================] - 0s 388us/step - loss: 1.5960 - accuracy: 0.4410 - val_loss: 2.0608 - val_accuracy: 0.2919\n",
      "Epoch 133/150\n",
      "1000/1000 [==============================] - 0s 400us/step - loss: 1.5981 - accuracy: 0.4450 - val_loss: 2.0806 - val_accuracy: 0.2900\n",
      "Epoch 134/150\n",
      "1000/1000 [==============================] - 0s 396us/step - loss: 1.5848 - accuracy: 0.4660 - val_loss: 2.0615 - val_accuracy: 0.2931\n",
      "Epoch 135/150\n",
      "1000/1000 [==============================] - 0s 392us/step - loss: 1.5725 - accuracy: 0.4580 - val_loss: 2.0553 - val_accuracy: 0.2926\n",
      "Epoch 136/150\n",
      "1000/1000 [==============================] - 0s 391us/step - loss: 1.5627 - accuracy: 0.4590 - val_loss: 2.0774 - val_accuracy: 0.2899\n",
      "Epoch 137/150\n",
      "1000/1000 [==============================] - 0s 395us/step - loss: 1.5811 - accuracy: 0.4380 - val_loss: 2.0665 - val_accuracy: 0.2905\n",
      "Epoch 138/150\n",
      "1000/1000 [==============================] - 0s 388us/step - loss: 1.5888 - accuracy: 0.4440 - val_loss: 2.0755 - val_accuracy: 0.2905\n",
      "Epoch 139/150\n",
      "1000/1000 [==============================] - 0s 396us/step - loss: 1.5882 - accuracy: 0.4520 - val_loss: 2.0533 - val_accuracy: 0.2946\n",
      "Epoch 140/150\n",
      "1000/1000 [==============================] - 0s 391us/step - loss: 1.5664 - accuracy: 0.4540 - val_loss: 2.0693 - val_accuracy: 0.2882\n",
      "Epoch 141/150\n",
      "1000/1000 [==============================] - 0s 426us/step - loss: 1.5721 - accuracy: 0.4710 - val_loss: 2.0690 - val_accuracy: 0.2919\n",
      "Epoch 142/150\n",
      "1000/1000 [==============================] - 0s 405us/step - loss: 1.5644 - accuracy: 0.4510 - val_loss: 2.0755 - val_accuracy: 0.2956\n",
      "Epoch 143/150\n",
      "1000/1000 [==============================] - 0s 403us/step - loss: 1.5440 - accuracy: 0.4470 - val_loss: 2.0662 - val_accuracy: 0.2984\n",
      "Epoch 144/150\n",
      "1000/1000 [==============================] - 0s 410us/step - loss: 1.5775 - accuracy: 0.4630 - val_loss: 2.0761 - val_accuracy: 0.2959\n",
      "Epoch 145/150\n",
      "1000/1000 [==============================] - 0s 411us/step - loss: 1.5499 - accuracy: 0.4780 - val_loss: 2.0629 - val_accuracy: 0.2952\n",
      "Epoch 146/150\n",
      "1000/1000 [==============================] - 0s 438us/step - loss: 1.5507 - accuracy: 0.4650 - val_loss: 2.0562 - val_accuracy: 0.2968\n",
      "Epoch 147/150\n",
      "1000/1000 [==============================] - 0s 392us/step - loss: 1.5292 - accuracy: 0.4780 - val_loss: 2.0732 - val_accuracy: 0.2951\n",
      "Epoch 148/150\n",
      "1000/1000 [==============================] - 0s 408us/step - loss: 1.5521 - accuracy: 0.4620 - val_loss: 2.0569 - val_accuracy: 0.2955\n",
      "Epoch 149/150\n",
      "1000/1000 [==============================] - 0s 397us/step - loss: 1.5337 - accuracy: 0.4840 - val_loss: 2.0776 - val_accuracy: 0.2916\n",
      "Epoch 150/150\n",
      "1000/1000 [==============================] - 0s 418us/step - loss: 1.5420 - accuracy: 0.4640 - val_loss: 2.0744 - val_accuracy: 0.2910\n",
      "Wall time: 1min 6s\n"
     ]
    },
    {
     "data": {
      "text/plain": [
       "<keras.callbacks.callbacks.History at 0x23e0ec288c8>"
      ]
     },
     "execution_count": 25,
     "metadata": {},
     "output_type": "execute_result"
    }
   ],
   "source": [
    "# %%time\n",
    "# num_epochs=150\n",
    "# batch_size=1000\n",
    "\n",
    "# model_2.fit(x=x_train_xs, y=y_train_xs, batch_size=batch_size, epochs=num_epochs, \n",
    "#             callbacks=[get_tensor_board('Model 2')], validation_data=(x_val, y_val))"
   ]
  },
  {
   "cell_type": "code",
   "execution_count": 30,
   "metadata": {},
   "outputs": [
    {
     "name": "stdout",
     "output_type": "stream",
     "text": [
      "Successfully created directory\n",
      "Wall time: 3min 50s\n"
     ]
    },
    {
     "data": {
      "text/plain": [
       "<keras.callbacks.callbacks.History at 0x23e17221948>"
      ]
     },
     "execution_count": 30,
     "metadata": {},
     "output_type": "execute_result"
    }
   ],
   "source": [
    "%%time\n",
    "num_epochs=100\n",
    "batch_size=1000\n",
    "\n",
    "model_1.fit(x=x_train, y=y_train, batch_size=batch_size, epochs=num_epochs, \n",
    "            callbacks=[get_tensor_board('Model 1 XL')], validation_data=(x_val, y_val), verbose=0)"
   ]
  },
  {
   "cell_type": "code",
   "execution_count": 31,
   "metadata": {},
   "outputs": [
    {
     "name": "stdout",
     "output_type": "stream",
     "text": [
      "Successfully created directory\n",
      "Wall time: 6min 20s\n"
     ]
    },
    {
     "data": {
      "text/plain": [
       "<keras.callbacks.callbacks.History at 0x23e19e4e5c8>"
      ]
     },
     "execution_count": 31,
     "metadata": {},
     "output_type": "execute_result"
    }
   ],
   "source": [
    "%%time\n",
    "num_epochs=100\n",
    "batch_size=1000\n",
    "\n",
    "model_2.fit(x=x_train, y=y_train, batch_size=batch_size, epochs=num_epochs, \n",
    "            callbacks=[get_tensor_board('Model 2 XL')], validation_data=(x_val, y_val), verbose=0)"
   ]
  },
  {
   "cell_type": "code",
   "execution_count": 32,
   "metadata": {},
   "outputs": [
    {
     "name": "stdout",
     "output_type": "stream",
     "text": [
      "Successfully created directory\n",
      "Wall time: 6min 22s\n"
     ]
    },
    {
     "data": {
      "text/plain": [
       "<keras.callbacks.callbacks.History at 0x23e16f41448>"
      ]
     },
     "execution_count": 32,
     "metadata": {},
     "output_type": "execute_result"
    }
   ],
   "source": [
    "%%time\n",
    "num_epochs=100\n",
    "batch_size=1000\n",
    "\n",
    "model_3.fit(x=x_train, y=y_train, batch_size=batch_size, epochs=num_epochs, \n",
    "            callbacks=[get_tensor_board('Model 3 XL')], validation_data=(x_val, y_val), verbose=0)"
   ]
  },
  {
   "cell_type": "markdown",
   "metadata": {},
   "source": [
    "Ideally, run tensorboard here by typing into your terminal(preferably conda prompt on windows or Terminal in MAC) by typing the following code:\n",
    "\n",
    "tensorboard --logdir={absolute_path_to_tensorflow_cifar_logs}   //for macOS\n",
    "\n",
    "tensorboard --logdir={absolute_path_to_tensorflow_cifar_logs} --host localhost   //for Windows OS \n",
    "\n",
    "Now you are prompted with a URL at the bottom, paste it into browser."
   ]
  },
  {
   "cell_type": "markdown",
   "metadata": {},
   "source": [
    "## Predictions on Individual Images"
   ]
  },
  {
   "cell_type": "code",
   "execution_count": 33,
   "metadata": {},
   "outputs": [
    {
     "data": {
      "text/plain": [
       "(10000, 3072)"
      ]
     },
     "execution_count": 33,
     "metadata": {},
     "output_type": "execute_result"
    }
   ],
   "source": [
    "x_val.shape"
   ]
  },
  {
   "cell_type": "code",
   "execution_count": 34,
   "metadata": {},
   "outputs": [
    {
     "data": {
      "text/plain": [
       "(3072,)"
      ]
     },
     "execution_count": 34,
     "metadata": {},
     "output_type": "execute_result"
    }
   ],
   "source": [
    "x_val[0].shape"
   ]
  },
  {
   "cell_type": "code",
   "execution_count": 36,
   "metadata": {},
   "outputs": [
    {
     "data": {
      "text/plain": [
       "array([[0.23137255, 0.24313725, 0.24705882, ..., 0.48235294, 0.36078431,\n",
       "        0.28235294]])"
      ]
     },
     "execution_count": 36,
     "metadata": {},
     "output_type": "execute_result"
    }
   ],
   "source": [
    "test=np.expand_dims(x_val[0], axis=0)\n",
    "test"
   ]
  },
  {
   "cell_type": "code",
   "execution_count": 37,
   "metadata": {},
   "outputs": [],
   "source": [
    "np.set_printoptions(precision=3)"
   ]
  },
  {
   "cell_type": "code",
   "execution_count": 38,
   "metadata": {},
   "outputs": [
    {
     "data": {
      "text/plain": [
       "array([[9.252e-03, 1.091e-03, 6.793e-02, 9.726e-02, 2.257e-01, 8.802e-02,\n",
       "        4.910e-01, 1.831e-02, 1.173e-03, 2.157e-04]], dtype=float32)"
      ]
     },
     "execution_count": 38,
     "metadata": {},
     "output_type": "execute_result"
    }
   ],
   "source": [
    "model_2.predict(test)"
   ]
  },
  {
   "cell_type": "code",
   "execution_count": 39,
   "metadata": {},
   "outputs": [
    {
     "data": {
      "text/plain": [
       "array([6], dtype=int64)"
      ]
     },
     "execution_count": 39,
     "metadata": {},
     "output_type": "execute_result"
    }
   ],
   "source": [
    "model_2.predict_classes(test)"
   ]
  },
  {
   "cell_type": "code",
   "execution_count": 40,
   "metadata": {},
   "outputs": [
    {
     "data": {
      "text/plain": [
       "array([6], dtype=uint8)"
      ]
     },
     "execution_count": 40,
     "metadata": {},
     "output_type": "execute_result"
    }
   ],
   "source": [
    "y_val[0]"
   ]
  },
  {
   "cell_type": "code",
   "execution_count": 44,
   "metadata": {},
   "outputs": [
    {
     "name": "stdout",
     "output_type": "stream",
     "text": [
      "The predicted class: 6 \t The actual class: 6\n",
      "The predicted class: 1 \t The actual class: 9\n",
      "The predicted class: 9 \t The actual class: 9\n",
      "The predicted class: 4 \t The actual class: 4\n",
      "The predicted class: 8 \t The actual class: 1\n",
      "The predicted class: 9 \t The actual class: 1\n",
      "The predicted class: 6 \t The actual class: 2\n",
      "The predicted class: 7 \t The actual class: 7\n",
      "The predicted class: 8 \t The actual class: 8\n",
      "The predicted class: 2 \t The actual class: 3\n"
     ]
    }
   ],
   "source": [
    "num_of_preds=10\n",
    "for i in range(num_of_preds):\n",
    "    test=np.expand_dims(x_val[i], axis=0)\n",
    "    pred_otpt=model_2.predict_classes(test)\n",
    "    \n",
    "    print(f'The predicted class: {pred_otpt[0]} \\t The actual class: {y_val[i][0]}')"
   ]
  },
  {
   "cell_type": "markdown",
   "metadata": {},
   "source": [
    "## Evaluation"
   ]
  },
  {
   "cell_type": "code",
   "execution_count": 45,
   "metadata": {},
   "outputs": [
    {
     "data": {
      "text/plain": [
       "['loss', 'accuracy']"
      ]
     },
     "execution_count": 45,
     "metadata": {},
     "output_type": "execute_result"
    }
   ],
   "source": [
    "model_2.metrics_names"
   ]
  },
  {
   "cell_type": "code",
   "execution_count": 46,
   "metadata": {},
   "outputs": [
    {
     "name": "stdout",
     "output_type": "stream",
     "text": [
      "10000/10000 [==============================] - 1s 91us/step\n",
      "The test loss is 1.41 and the test accuracy is 49.28%\n"
     ]
    }
   ],
   "source": [
    "test_loss, test_accuracy=model_2.evaluate(x_test, y_test)\n",
    "print(f'The test loss is {test_loss:0.3} and the test accuracy is {test_accuracy:0.2%}')"
   ]
  },
  {
   "cell_type": "markdown",
   "metadata": {},
   "source": [
    "## Prediction Distribution Matrix--(Confusion matrix)"
   ]
  },
  {
   "cell_type": "code",
   "execution_count": 48,
   "metadata": {},
   "outputs": [],
   "source": [
    "predictions=model_2.predict_classes(x_test)\n",
    "conf_matrix=confusion_matrix(y_true=y_test, y_pred=predictions)"
   ]
  },
  {
   "cell_type": "code",
   "execution_count": 49,
   "metadata": {},
   "outputs": [
    {
     "data": {
      "text/plain": [
       "array([[514,  40,  59,  11,  49,  14,  12,  31, 238,  32],\n",
       "       [ 45, 621,   7,  11,  17,  17,  12,  17, 108, 145],\n",
       "       [ 67,  25, 264,  61, 237,  88, 117,  75,  45,  21],\n",
       "       [ 36,  23,  67, 255, 100, 188, 133,  79,  54,  65],\n",
       "       [ 47,  13,  79,  42, 494,  46, 127,  90,  47,  15],\n",
       "       [ 19,  15,  72, 165,  98, 375,  82,  97,  50,  27],\n",
       "       [ 17,  17,  53,  68, 144,  43, 577,  29,  28,  24],\n",
       "       [ 58,  25,  37,  42, 126,  61,  27, 552,  17,  55],\n",
       "       [ 83,  46,   9,  20,  28,  10,  11,  13, 722,  58],\n",
       "       [ 48, 149,  14,  23,  11,  18,  19,  56, 108, 554]], dtype=int64)"
      ]
     },
     "execution_count": 49,
     "metadata": {},
     "output_type": "execute_result"
    }
   ],
   "source": [
    "conf_matrix"
   ]
  },
  {
   "cell_type": "code",
   "execution_count": 71,
   "metadata": {},
   "outputs": [
    {
     "data": {
      "image/png": "[encoded data removed]",
      "text/plain": [
       "<Figure size 1816x1816 with 2 Axes>"
      ]
     },
     "metadata": {
      "needs_background": "light"
     },
     "output_type": "display_data"
    }
   ],
   "source": [
    "plt.figure(figsize=(8,8), dpi=227)\n",
    "plt.imshow(conf_matrix, cmap='Greens')\n",
    "plt.title('Confusion Matrix', fontsize = 16)\n",
    "plt.ylabel('Actual labels', fontsize=14)\n",
    "plt.xlabel('Predicted labels', fontsize=14)\n",
    "\n",
    "tickmarks=np.arange(NR_CLASSES)\n",
    "plt.yticks(ticks=tickmarks, labels=LABEL_NAMES)\n",
    "plt.xticks(ticks=tickmarks, labels=LABEL_NAMES)\n",
    "\n",
    "plt.colorbar()\n",
    "\n",
    "for i,j in itertools.product(range(conf_matrix.shape[0]),range(conf_matrix.shape[1])):\n",
    "    plt.text(j,i, f'{conf_matrix[i][j]}', horizontalalignment='center',\n",
    "            color='white' if conf_matrix[i][j]>conf_matrix.max()/2 else 'black')\n",
    "\n",
    "plt.show()"
   ]
  },
  {
   "cell_type": "code",
   "execution_count": 72,
   "metadata": {},
   "outputs": [
    {
     "data": {
      "text/plain": [
       "array([514, 621, 264, 255, 494, 375, 577, 552, 722, 554], dtype=int64)"
      ]
     },
     "execution_count": 72,
     "metadata": {},
     "output_type": "execute_result"
    }
   ],
   "source": [
    "# True Positives\n",
    "\n",
    "np.diag(conf_matrix)"
   ]
  },
  {
   "cell_type": "code",
   "execution_count": 73,
   "metadata": {},
   "outputs": [
    {
     "data": {
      "text/plain": [
       "array([0.514, 0.621, 0.264, 0.255, 0.494, 0.375, 0.577, 0.552, 0.722,\n",
       "       0.554])"
      ]
     },
     "execution_count": 73,
     "metadata": {},
     "output_type": "execute_result"
    }
   ],
   "source": [
    "recall=np.diag(conf_matrix)/np.sum(conf_matrix, axis=1)\n",
    "recall"
   ]
  },
  {
   "cell_type": "code",
   "execution_count": 75,
   "metadata": {},
   "outputs": [
    {
     "data": {
      "text/plain": [
       "array([0.55 , 0.638, 0.399, 0.365, 0.379, 0.436, 0.517, 0.531, 0.51 ,\n",
       "       0.556])"
      ]
     },
     "execution_count": 75,
     "metadata": {},
     "output_type": "execute_result"
    }
   ],
   "source": [
    "precision=np.diag(conf_matrix)/np.sum(conf_matrix, axis=0)\n",
    "precision"
   ]
  },
  {
   "cell_type": "code",
   "execution_count": 81,
   "metadata": {},
   "outputs": [
    {
     "name": "stdout",
     "output_type": "stream",
     "text": [
      "Average Recall of the Model 2 is 49.28%\n",
      "Average Precision of the Model 2 is 48.81%\n",
      "F1 score for the Model 2 is 49.04%\n"
     ]
    }
   ],
   "source": [
    "# Average recall\n",
    "avg_recall=np.mean(recall)\n",
    "avg_precision=np.mean(precision)\n",
    "f1_score = 2*avg_precision*avg_recall/(avg_precision+avg_recall)\n",
    "print(f'Average Recall of the Model 2 is {avg_recall:0.2%}')\n",
    "print(f'Average Precision of the Model 2 is {avg_precision:0.2%}')\n",
    "print(f'F1 score for the Model 2 is {f1_score:0.2%}')\n"
   ]
  },
  {
   "cell_type": "code",
   "execution_count": null,
   "metadata": {},
   "outputs": [],
   "source": []
  },
  {
   "cell_type": "code",
   "execution_count": null,
   "metadata": {},
   "outputs": [],
   "source": []
  },
  {
   "cell_type": "code",
   "execution_count": null,
   "metadata": {},
   "outputs": [],
   "source": []
  },
  {
   "cell_type": "code",
   "execution_count": null,
   "metadata": {},
   "outputs": [],
   "source": []
  },
  {
   "cell_type": "code",
   "execution_count": null,
   "metadata": {},
   "outputs": [],
   "source": []
  }
 ],
 "metadata": {
  "kernelspec": {
   "display_name": "Python 3",
   "language": "python",
   "name": "python3"
  },
  "language_info": {
   "codemirror_mode": {
    "name": "ipython",
    "version": 3
   },
   "file_extension": ".py",
   "mimetype": "text/x-python",
   "name": "python",
   "nbconvert_exporter": "python",
   "pygments_lexer": "ipython3",
   "version": "3.7.6"
  }
 },
 "nbformat": 4,
 "nbformat_minor": 4
}
